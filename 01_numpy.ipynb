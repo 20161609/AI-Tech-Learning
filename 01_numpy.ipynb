{
  "nbformat": 4,
  "nbformat_minor": 0,
  "metadata": {
    "colab": {
      "private_outputs": true,
      "provenance": [],
      "authorship_tag": "ABX9TyOrFNye1vadoAgAxe2knJOm",
      "include_colab_link": true
    },
    "kernelspec": {
      "name": "python3",
      "display_name": "Python 3"
    },
    "language_info": {
      "name": "python"
    }
  },
  "cells": [
    {
      "cell_type": "markdown",
      "metadata": {
        "id": "view-in-github",
        "colab_type": "text"
      },
      "source": [
        "<a href=\"https://colab.research.google.com/github/20161609/AI-Tech-Learning/blob/main/01_numpy.ipynb\" target=\"_parent\"><img src=\"https://colab.research.google.com/assets/colab-badge.svg\" alt=\"Open In Colab\"/></a>"
      ]
    },
    {
      "cell_type": "markdown",
      "source": [
        "# Numpy"
      ],
      "metadata": {
        "id": "7uF078oYruKp"
      }
    },
    {
      "cell_type": "markdown",
      "source": [
        "## Import library"
      ],
      "metadata": {
        "id": "Txoy9EA0mULf"
      }
    },
    {
      "cell_type": "code",
      "execution_count": null,
      "metadata": {
        "id": "5FEit09nrOW1"
      },
      "outputs": [],
      "source": [
        "import numpy as np\n",
        "\n",
        "np.__version__"
      ]
    },
    {
      "cell_type": "code",
      "source": [
        "import cv2\n",
        "from google.colab.patches import cv2_imshow  # Colab 전용 imshow 함수\n",
        "\n",
        "image = cv2.imread(\"test.jpg\", cv2.IMREAD_COLOR)\n",
        "if image is None:\n",
        "    raise Exception(\"Error when reading image file.\")  # Handling exception\n",
        "\n",
        "x_axis = cv2.flip(image, 0)           # Flip on x-axis\n",
        "y_axis = cv2.flip(image, 1)           # Flip on y-axis\n",
        "xy_axis = cv2.flip(image, -1)         # Flip on both axes\n",
        "rep_image = cv2.repeat(image, 1, 2)   # Repeat copy\n",
        "trans_image = cv2.transpose(image)    # Matrix transposition\n",
        "\n",
        "# Display all matrices in image format\n",
        "titles = ['image', 'x_axis', 'y_axis', 'xy_axis', 'rep_image', 'trans_image']\n",
        "for title in titles:\n",
        "    cv2_imshow(eval(title))  # Use cv2_imshow instead of cv2.imshow\n",
        "    print(f\"Displaying: {title}\")  # Optional: Print title for clarity\n"
      ],
      "metadata": {
        "id": "r5bkcURLpTYn"
      },
      "execution_count": null,
      "outputs": []
    },
    {
      "cell_type": "markdown",
      "source": [
        "## Compare the handling speed between python's list type and numpy"
      ],
      "metadata": {
        "id": "W8ic2z45zw2S"
      }
    },
    {
      "cell_type": "code",
      "source": [
        "import random\n",
        "\n",
        "# random.random()\n",
        "my_arr = [random.random() for _ in range(1000000)]\n",
        "type(my_arr)"
      ],
      "metadata": {
        "id": "dZTROUthx53R"
      },
      "execution_count": null,
      "outputs": []
    },
    {
      "cell_type": "code",
      "source": [
        "%%timeit\n",
        "import statistics\n",
        "\n",
        "statistics.mean(my_arr)"
      ],
      "metadata": {
        "id": "tdUjl8L_0Pfe"
      },
      "execution_count": null,
      "outputs": []
    },
    {
      "cell_type": "code",
      "source": [
        "# %%timelit\n",
        "\n",
        "arr = np.array(my_arr)\n",
        "type(arr)"
      ],
      "metadata": {
        "id": "Re1mmTBm1V1t"
      },
      "execution_count": null,
      "outputs": []
    },
    {
      "cell_type": "code",
      "source": [
        "%%timeit\n",
        "np.mean(arr)"
      ],
      "metadata": {
        "id": "RWnls2u21gNg"
      },
      "execution_count": null,
      "outputs": []
    },
    {
      "cell_type": "markdown",
      "source": [
        "## Create array"
      ],
      "metadata": {
        "id": "X4lYpW5jr-r_"
      }
    },
    {
      "cell_type": "code",
      "source": [
        "arr = np.array([1,2,3,4,5])\n",
        "arr1 = np.array([-1,-2,-3,-4,-5])\n",
        "arr"
      ],
      "metadata": {
        "id": "ZKR64lfo4EJe"
      },
      "execution_count": null,
      "outputs": []
    },
    {
      "cell_type": "code",
      "source": [
        "arr = np.array([1,2,3,4,5])\n",
        "t = arr.shape ## -> \"Outputs as a tuple (unlike a list, values cannot be changed by index)\"\n",
        "\n",
        "a = [1]\n",
        "b = (1)\n",
        "type(b) # -> \"A single element cannot form a tuple.\""
      ],
      "metadata": {
        "id": "Ix24sElJ5RoC"
      },
      "execution_count": null,
      "outputs": []
    },
    {
      "cell_type": "code",
      "source": [
        "arr = np.array([1,2,3,4,5])\n",
        "print(arr.ndim)\n",
        "print(arr.dtype)\n",
        "print(len(arr), arr.size)"
      ],
      "metadata": {
        "id": "LI9k97Lk8Bld"
      },
      "execution_count": null,
      "outputs": []
    },
    {
      "cell_type": "code",
      "source": [
        "arr = np.array([1,2,3.0,4,5])\n",
        "print(arr.dtype)\n"
      ],
      "metadata": {
        "id": "2VMP3goY7yol"
      },
      "execution_count": null,
      "outputs": []
    },
    {
      "cell_type": "code",
      "source": [
        "try:\n",
        "  arr = np.array([[1,2],[3,4,5]])\n",
        "except Exception as e:\n",
        "  print('!Error, ')\n",
        "  print(e)\n",
        "\n",
        "# The error occurs because the nested lists have inconsistent dimensions, making it impossible to form a proper 2D array in numpy."
      ],
      "metadata": {
        "id": "-M0gUpdN8A4d"
      },
      "execution_count": null,
      "outputs": []
    },
    {
      "cell_type": "code",
      "source": [
        "# Create a 2D array with three rows and two columns\n",
        "arr = np.array([[1, 2], [3, 4], [5, 6]])\n",
        "print(arr.ndim)  # number of dimensions of the array (ndim = 2 for 2D)\n",
        "print(arr.shape)  # shape of the array (rows, columns)\n",
        "\n",
        "# Create a 3D array with two blocks, each containing two rows and two columns\n",
        "arr = np.array([[[1, 2], [3, 4]], [[5, 6], [7, 8]]])\n",
        "print(arr.ndim)  # number of dimensions of the array (ndim = 3 for 3D)\n",
        "print(arr.shape)  # shape of the array (blocks, rows, columns)\n"
      ],
      "metadata": {
        "id": "WLhITKjq8yLj"
      },
      "execution_count": null,
      "outputs": []
    },
    {
      "cell_type": "markdown",
      "source": [
        "## Create and init"
      ],
      "metadata": {
        "id": "VE-JxLvy95yb"
      }
    },
    {
      "cell_type": "code",
      "source": [
        "a = np.zeros((3,2))\n",
        "print(a)\n",
        "\n",
        "b = np.ones((2,3))\n",
        "print(b)\n",
        "\n",
        "# c = np.full(9)\n"
      ],
      "metadata": {
        "id": "10h_2mLH95hO"
      },
      "execution_count": null,
      "outputs": []
    },
    {
      "cell_type": "code",
      "source": [
        "a = np.arange(10)\n",
        "a"
      ],
      "metadata": {
        "id": "iFpm6EJH_CEP"
      },
      "execution_count": null,
      "outputs": []
    },
    {
      "cell_type": "markdown",
      "source": [
        "### Indexing, Slicing\n"
      ],
      "metadata": {
        "id": "StZxey7n_Pr-"
      }
    },
    {
      "cell_type": "code",
      "source": [
        "arr = np.array([1,2,3,4,5])\n",
        "arr"
      ],
      "metadata": {
        "id": "kfc4_tyE_Rnj"
      },
      "execution_count": null,
      "outputs": []
    },
    {
      "cell_type": "markdown",
      "source": [
        "## Boolean Indexing"
      ],
      "metadata": {
        "id": "O8IlIcXmBFnh"
      }
    },
    {
      "cell_type": "code",
      "source": [
        "idx = np.array([False,True,False,True,False])\n",
        "arr[idx]"
      ],
      "metadata": {
        "id": "xklc-fA0BHZi"
      },
      "execution_count": null,
      "outputs": []
    },
    {
      "cell_type": "code",
      "source": [
        "arr[arr>3]"
      ],
      "metadata": {
        "id": "7qAtumgTBaQI"
      },
      "execution_count": null,
      "outputs": []
    },
    {
      "cell_type": "markdown",
      "source": [
        "## Fency Indexing"
      ],
      "metadata": {
        "id": "XjMB7z3nBlAU"
      }
    },
    {
      "cell_type": "code",
      "source": [
        "arr = np.array([1,2,3,4,5])\n",
        "idx = np.array([1,2,4])\n",
        "# dx - np.array([[1,3], [0,1]])\n",
        "arr[idx]\n"
      ],
      "metadata": {
        "id": "pqh_theUBnrW"
      },
      "execution_count": null,
      "outputs": []
    },
    {
      "cell_type": "markdown",
      "source": [
        "## Shape transportation"
      ],
      "metadata": {
        "id": "QgRP_8K5C47m"
      }
    },
    {
      "cell_type": "code",
      "source": [
        "arr = np.array([1,2,3,4,5,6])\n",
        "arr.shape"
      ],
      "metadata": {
        "id": "720AFaFeC7mK"
      },
      "execution_count": null,
      "outputs": []
    },
    {
      "cell_type": "code",
      "source": [
        "arr = np.array([1,2,3,4,5,6])\n",
        "arr1 = arr.reshape(3,2)\n",
        "arr1"
      ],
      "metadata": {
        "id": "5bGjhoqDGeUI"
      },
      "execution_count": null,
      "outputs": []
    },
    {
      "cell_type": "code",
      "source": [
        "arr = np.array([1,2,3,4,5,6])\n",
        "arr1 = arr.reshape(6)\n",
        "arr1"
      ],
      "metadata": {
        "id": "2u0SQSboG5Ld"
      },
      "execution_count": null,
      "outputs": []
    },
    {
      "cell_type": "code",
      "source": [
        "arr = np.array([1,2,3,4,5,6])\n",
        "\n",
        "# Reshape 1D array into 2D array with 3 rows and 2 cols\n",
        "arr1 = arr.reshape(3, 2)\n",
        "\n",
        "# Reshape array back into 1D array (flattening it)\n",
        "arr1.reshape(-1)  # -> Outputs: [1, 2, 3, 4, 5, 6]\n",
        "\n",
        "# Create a flattened version of the array as a copy (does not affect the original array)\n",
        "arr1.flatten()  # -> Outputs: [1, 2, 3, 4, 5, 6]\n",
        "\n",
        "# Create a flattened version of the array as a view (changes affect the original array)\n",
        "arr1.ravel()  # -> Outputs: [1, 2, 3, 4, 5, 6]\n",
        "\n",
        "# Reshape the array into a 3D array with shape (1, 2, 3)\n",
        "arr1.reshape(1, 2, 3)  # -> Outputs: [[[1, 2, 3], [4, 5, 6]]]\n",
        "\n",
        "# Reshape the array into a 3D array with shape (1, 3, 2) using -1 for automatic calculation\n",
        "arr1 = arr1.reshape(1, 3, -1)  # -> Outputs: [[[1, 2], [3, 4], [5, 6]]]\n",
        "\n",
        "# Final reshaped array\n",
        "arr1\n"
      ],
      "metadata": {
        "id": "oSCtlJkXHBqm"
      },
      "execution_count": null,
      "outputs": []
    },
    {
      "cell_type": "code",
      "source": [
        "arr2 = arr.reshape(2, 3)\n",
        "arr2"
      ],
      "metadata": {
        "id": "p4wxBm5YIR-u"
      },
      "execution_count": null,
      "outputs": []
    },
    {
      "cell_type": "code",
      "source": [
        "np.sum(arr2, axis=0)"
      ],
      "metadata": {
        "id": "IQw8LAP8IV9d"
      },
      "execution_count": null,
      "outputs": []
    },
    {
      "cell_type": "code",
      "source": [
        "arr = np.array([1,2,3,4,5,6])\n",
        "arr1 = arr[np.newaxis, :]\n",
        "print(arr1)\n",
        "\n",
        "arr2 = arr[:, np.newaxis]\n",
        "print(arr2)\n"
      ],
      "metadata": {
        "id": "_PIcBk0vI6JS"
      },
      "execution_count": null,
      "outputs": []
    },
    {
      "cell_type": "code",
      "source": [
        "np.savez('my_data.npz', train=arr)\n"
      ],
      "metadata": {
        "id": "M8RGp96RKMFk"
      },
      "execution_count": null,
      "outputs": []
    },
    {
      "cell_type": "code",
      "source": [
        "data = np.load('my_data.npz')\n",
        "data['train']\n"
      ],
      "metadata": {
        "id": "7X5g_te5KfTG"
      },
      "execution_count": null,
      "outputs": []
    }
  ]
}