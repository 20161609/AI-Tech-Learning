{
  "nbformat": 4,
  "nbformat_minor": 0,
  "metadata": {
    "colab": {
      "private_outputs": true,
      "provenance": [],
      "authorship_tag": "ABX9TyPyRTtQ9Zdy9aUzm5Tq2dwD"
    },
    "kernelspec": {
      "name": "python3",
      "display_name": "Python 3"
    },
    "language_info": {
      "name": "python"
    }
  },
  "cells": [
    {
      "cell_type": "markdown",
      "source": [
        "# KNN Multi-class Classification\n",
        "\n",
        "## 1. Overview of KNN\n",
        "K-Nearest Neighbors (KNN) is a **non-parametric supervised learning algorithm** used for classification and regression tasks.  \n",
        "In **multi-class classification**, it predicts the class of a sample by majority voting among its $k$ nearest neighbors based on a chosen distance metric.\n",
        "\n",
        "---\n",
        "\n",
        "## 2. Workflow for KNN Multi-class Classification\n",
        "1. **Data Preparation**:\n",
        "   - Split the dataset into training and test sets.\n",
        "   - Normalize or standardize features to ensure meaningful distance calculations.\n",
        "\n",
        "2. **Choosing the Value of $k$**:\n",
        "   - Select an appropriate $k$ (use cross-validation if needed).\n",
        "   - Use an odd $k$ value to avoid ties.\n",
        "\n",
        "3. **Distance Metric**:\n",
        "   - Choose a distance metric (e.g., Euclidean, Manhattan).\n",
        "\n",
        "4. **Prediction**:\n",
        "   - Calculate distances between the test sample and all training samples.\n",
        "   - Identify the $k$ nearest neighbors.\n",
        "   - Assign the most common class among the neighbors.\n",
        "\n",
        "5. **Evaluation**:\n",
        "   - Use metrics such as accuracy, precision, recall, and F1-score to evaluate performance.\n",
        "\n",
        "---\n",
        "\n",
        "## 3. Evaluation Metrics\n",
        "1. **Accuracy**:\n",
        "   $$\n",
        "   Accuracy = \\frac{\\text{Number of correct predictions}}{\\text{Total number of predictions}}\n",
        "   $$\n",
        "\n",
        "2. **Precision (Macro-Averaged)**:\n",
        "   $$\n",
        "   Precision_{\\text{macro}} = \\frac{1}{C} \\sum_{c=1}^{C} Precision_c\n",
        "   $$\n",
        "\n",
        "3. **Recall (Macro-Averaged)**:\n",
        "   $$\n",
        "   Recall_{\\text{macro}} = \\frac{1}{C} \\sum_{c=1}^{C} Recall_c\n",
        "   $$\n",
        "\n",
        "4. **F1 Score (Macro-Averaged)**:\n",
        "   $$\n",
        "   F1_{\\text{macro}} = \\frac{1}{C} \\sum_{c=1}^{C} \\frac{2 \\cdot Precision_c \\cdot Recall_c}{Precision_c + Recall_c}\n",
        "   $$\n",
        "\n",
        "---\n",
        "\n",
        "## 4. Practical Tips\n",
        "- **Feature Scaling**: Essential for meaningful distance calculations.\n",
        "- **Optimal $k$**: A smaller $k$ is sensitive to noise, while a larger $k$ may smooth boundaries.\n",
        "- **Class Imbalance**: Address imbalances by assigning weights or adjusting class distributions.\n",
        "- **High-dimensional Data**: Performance can degrade in high dimensions (the curse of dimensionality); consider dimensionality reduction techniques like PCA.\n",
        "\n",
        "---\n",
        "\n",
        "## 5. Advantages and Disadvantages\n",
        "\n",
        "### Advantages\n",
        "- Simple and easy to implement.\n",
        "- No assumptions about data distribution.\n",
        "- Effective for small datasets.\n",
        "\n",
        "### Disadvantages\n",
        "- Computationally expensive, especially for large datasets.\n",
        "- Sensitive to the choice of $k$ and distance metric.\n",
        "- Struggles with high-dimensional data.\n",
        "\n",
        "---\n",
        "\n",
        "## 6. Conclusion\n",
        "KNN is a straightforward and effective algorithm for **multi-class classification**. Its performance heavily depends on data preprocessing, distance metric selection, and $k$-value optimization. While suitable for small datasets, its limitations in computational efficiency and scalability make it less ideal for larger or more complex datasets. For such cases, consider alternative algorithms like Random Forest or SVM.\n"
      ],
      "metadata": {
        "id": "Cg76hZuLH83t"
      }
    },
    {
      "cell_type": "markdown",
      "source": [
        "## 1. Prepare Data"
      ],
      "metadata": {
        "id": "4OBeY_Z6IQqD"
      }
    },
    {
      "cell_type": "code",
      "execution_count": null,
      "metadata": {
        "id": "8R8idjLwH53e"
      },
      "outputs": [],
      "source": [
        "!wget https://raw.githubusercontent.com/devdio/flyai_datasets/main/iris.csv"
      ]
    },
    {
      "cell_type": "code",
      "source": [
        "import numpy as np\n",
        "import pandas as pd\n",
        "import matplotlib.pyplot as plt\n",
        "import seaborn as sns\n",
        "\n",
        "SEED = 42"
      ],
      "metadata": {
        "id": "seXDHYyYI7kF"
      },
      "execution_count": null,
      "outputs": []
    },
    {
      "cell_type": "code",
      "source": [
        "# iris_link = 'https://raw.githubusercontent.com/devdio/flyai_datasets/main/iris.csv'\n",
        "# iris = pd.read_csv(iris_link)\n",
        "iris = pd.read_csv('iris.csv')\n",
        "iris.shape"
      ],
      "metadata": {
        "id": "ix6Qs2U_IW8w"
      },
      "execution_count": null,
      "outputs": []
    },
    {
      "cell_type": "code",
      "source": [
        "# Create a dictionary\n",
        "# where each column name in the iris DataFrame is converted\n",
        "# to lowercase and spaces are replaced with underscores.\n",
        "\n",
        "col_dict = {col: col.lower().replace(' ', '_' ) for col in iris.columns}\n",
        "col_dict"
      ],
      "metadata": {
        "id": "l-dtiGRaKWDZ"
      },
      "execution_count": null,
      "outputs": []
    },
    {
      "cell_type": "code",
      "source": [
        "iris.rename(columns=col_dict, inplace=True)"
      ],
      "metadata": {
        "id": "sR1RZp3XJEXm"
      },
      "execution_count": null,
      "outputs": []
    },
    {
      "cell_type": "code",
      "source": [
        "# Missing\n",
        "iris.isna().sum(axis=0)\n",
        "\n",
        "# Duplication\n",
        "iris.duplicated().sum()"
      ],
      "metadata": {
        "id": "T4gGnSTNKt0_"
      },
      "execution_count": null,
      "outputs": []
    },
    {
      "cell_type": "code",
      "source": [
        "# Split into training and testing datasets\n",
        "iris = iris.sample(frac=1, random_state=SEED)\n",
        "iris.head()"
      ],
      "metadata": {
        "id": "w1j9itPgLOSZ"
      },
      "execution_count": null,
      "outputs": []
    },
    {
      "cell_type": "code",
      "source": [
        "idx_train = int(len(iris) * 0.6)\n",
        "idx_val = int(len(iris)* 0.8)\n",
        "idx_train, idx_val"
      ],
      "metadata": {
        "id": "R_iK0RO4Lrd6"
      },
      "execution_count": null,
      "outputs": []
    },
    {
      "cell_type": "code",
      "source": [
        "train = iris.iloc[:idx_train, :]\n",
        "val = iris.iloc[idx_train:idx_val, :]\n",
        "test = iris.iloc[idx_val:, :]\n",
        "\n",
        "train.shape, val.shape, test.shape"
      ],
      "metadata": {
        "id": "4EpoLYlVMCzP"
      },
      "execution_count": null,
      "outputs": []
    },
    {
      "cell_type": "code",
      "source": [
        "X_train = train.drop('species', axis=1)\n",
        "y_train = train['species']\n",
        "\n",
        "X_val = val.drop('species', axis=1)\n",
        "y_val = val['species']\n",
        "\n",
        "y_train.value_counts(), y_val.value_counts()"
      ],
      "metadata": {
        "id": "N4aVy8jFMJr9"
      },
      "execution_count": null,
      "outputs": []
    },
    {
      "cell_type": "code",
      "source": [
        "u = X_train.mean()\n",
        "std = X_train.std()\n",
        "\n",
        "X_train_s = (X_train - u)/std\n",
        "X_train_s.head()"
      ],
      "metadata": {
        "id": "KH2WhSIyMUJn"
      },
      "execution_count": null,
      "outputs": []
    },
    {
      "cell_type": "code",
      "source": [
        "X_val_s = (X_val - u)/std\n",
        "X_val_s.head()"
      ],
      "metadata": {
        "id": "XECX5hPOMU8I"
      },
      "execution_count": null,
      "outputs": []
    },
    {
      "cell_type": "code",
      "source": [
        "ss_dic = {'mean':u, 'std':std}\n",
        "ss_dic"
      ],
      "metadata": {
        "id": "oLOmuYGpMd--"
      },
      "execution_count": null,
      "outputs": []
    },
    {
      "cell_type": "code",
      "source": [
        "label_dict = {specie:i  for i, specie in enumerate(y_val.unique())}\n",
        "label_dict"
      ],
      "metadata": {
        "id": "1dz2u7_ZMfYG"
      },
      "execution_count": null,
      "outputs": []
    },
    {
      "cell_type": "code",
      "source": [
        "y_train_e = y_train.map(label_dict)\n",
        "y_val_e = y_val.map(label_dict)\n",
        "\n",
        "y_train_e, y_val_e"
      ],
      "metadata": {
        "id": "kn7yvUuXMgHj"
      },
      "execution_count": null,
      "outputs": []
    },
    {
      "cell_type": "code",
      "source": [
        "X_train_s = X_train_s.to_numpy()\n",
        "y_train_e = y_train_e.to_numpy()\n",
        "\n",
        "X_val_s = X_val_s.to_numpy()\n",
        "y_val_e = y_val_e.to_numpy()\n",
        "\n",
        "print(X_train_s.shape, y_train_e.shape)\n",
        "print(X_val_s.shape, y_val_e.shape)\n",
        "print(type(X_train_s), type(y_train_e))\n",
        "print(type(X_val_s), type(y_val_e))"
      ],
      "metadata": {
        "id": "0iU9Z58mNJB1"
      },
      "execution_count": null,
      "outputs": []
    },
    {
      "cell_type": "code",
      "source": [
        "from sklearn.neighbors import KNeighborsClassifier\n",
        "\n",
        "clf = KNeighborsClassifier(n_neighbors=5)\n",
        "clf.fit(X_train_s, y_train_e)\n",
        "\n",
        "y_pred = clf.predict(X_val_s)\n",
        "y_pred"
      ],
      "metadata": {
        "id": "WXOiu_NQNKgY"
      },
      "execution_count": null,
      "outputs": []
    },
    {
      "cell_type": "code",
      "source": [
        "(y_pred == y_val_e).sum()/len(y_val_e)"
      ],
      "metadata": {
        "id": "suIUEQ5UNQLN"
      },
      "execution_count": null,
      "outputs": []
    },
    {
      "cell_type": "code",
      "source": [
        "from sklearn.metrics import accuracy_score\n",
        "\n",
        "scores = []\n",
        "for k in range(3, 30):\n",
        "    clf = KNeighborsClassifier(n_neighbors=k)\n",
        "    clf.fit(X_train_s, y_train_e)\n",
        "    y_pred = clf.predict(X_val_s)\n",
        "    acc = accuracy_score(y_val_e, y_pred)\n",
        "    scores.append(acc)"
      ],
      "metadata": {
        "id": "7q-kI_oYNRSh"
      },
      "execution_count": null,
      "outputs": []
    },
    {
      "cell_type": "code",
      "source": [
        "plt.plot(scores)"
      ],
      "metadata": {
        "id": "dqXm3fyENT59"
      },
      "execution_count": null,
      "outputs": []
    },
    {
      "cell_type": "code",
      "source": [
        "X_test = test.drop('species', axis=1)\n",
        "y_test = test['species']\n",
        "\n",
        "X_test_s = (X_test - ss_dic['mean'])/ss_dic['std']\n",
        "y_test_e = y_test.map(label_dict)\n",
        "\n",
        "X_test_s = X_test_s.to_numpy()\n",
        "y_test_e = y_test_e.to_numpy()\n",
        "\n",
        "y_pred = clf.predict(X_test_s)"
      ],
      "metadata": {
        "id": "kDINcn_1NXev"
      },
      "execution_count": null,
      "outputs": []
    },
    {
      "cell_type": "code",
      "source": [
        "(y_test_e == y_pred).sum()/len(y_test_e)"
      ],
      "metadata": {
        "id": "y2VrQa-SNbnX"
      },
      "execution_count": null,
      "outputs": []
    },
    {
      "cell_type": "code",
      "source": [
        "from sklearn.metrics import confusion_matrix\n",
        "\n",
        "cfm = confusion_matrix(y_test_e, y_pred)\n",
        "cfm"
      ],
      "metadata": {
        "id": "nl0Kc7tJNgBF"
      },
      "execution_count": null,
      "outputs": []
    },
    {
      "cell_type": "code",
      "source": [
        "s = sns.heatmap(cfm, annot=True, cmap='Blues', fmt='d', cbar=False)\n",
        "s.set(xlabel='Prediction', ylabel='Actual')\n",
        "plt.show()"
      ],
      "metadata": {
        "id": "XKz8RdDENh09"
      },
      "execution_count": null,
      "outputs": []
    },
    {
      "cell_type": "code",
      "source": [
        "from sklearn.metrics import accuracy_score, recall_score, precision_score,f1_score\n",
        "\n",
        "print('accuracy:', accuracy_score(y_test_e, y_pred))\n",
        "print('recall:', recall_score(y_test_e, y_pred, average='macro'))\n",
        "print('precision:', precision_score(y_test_e, y_pred, average='macro'))\n",
        "print('f1 :', f1_score(y_test_e, y_pred, average='macro'))"
      ],
      "metadata": {
        "id": "8QlNPmczNi-g"
      },
      "execution_count": null,
      "outputs": []
    }
  ]
}