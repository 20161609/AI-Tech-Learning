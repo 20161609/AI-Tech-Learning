{
  "nbformat": 4,
  "nbformat_minor": 0,
  "metadata": {
    "colab": {
      "private_outputs": true,
      "provenance": [],
      "authorship_tag": "ABX9TyMIXeVqYu4FiYD/ZMGC1xzE"
    },
    "kernelspec": {
      "name": "python3",
      "display_name": "Python 3"
    },
    "language_info": {
      "name": "python"
    }
  },
  "cells": [
    {
      "cell_type": "markdown",
      "source": [
        "### **2024-06-25 Class**"
      ],
      "metadata": {
        "id": "_qu40bS_3jcj"
      }
    },
    {
      "cell_type": "markdown",
      "source": [
        "# Matplotlib"
      ],
      "metadata": {
        "id": "vNGGUQzWxr6n"
      }
    },
    {
      "cell_type": "code",
      "execution_count": null,
      "metadata": {
        "id": "9Ix5_V2rwHNK"
      },
      "outputs": [],
      "source": [
        "import numpy as np\n",
        "import matplotlib\n",
        "import matplotlib.pyplot as plt"
      ]
    },
    {
      "cell_type": "code",
      "source": [
        "a = [3,4,5]\n",
        "\n",
        "print(*a)"
      ],
      "metadata": {
        "id": "EV69pUKt-DcS"
      },
      "execution_count": null,
      "outputs": []
    },
    {
      "cell_type": "code",
      "source": [
        "matplotlib.__version__"
      ],
      "metadata": {
        "id": "DwU7YHO61dOp"
      },
      "execution_count": null,
      "outputs": []
    },
    {
      "cell_type": "code",
      "source": [
        "x = np.array([1, 2, 3, 7, 15, 16])  # By default, index values are assigned to the horizontal axis.\n",
        "plt.plot(x)\n",
        "plt.show()  # In non-Jupyter Python scripts, show() is required to display the plot."
      ],
      "metadata": {
        "id": "qzMPttB_1h-Q"
      },
      "execution_count": null,
      "outputs": []
    },
    {
      "cell_type": "code",
      "source": [
        "x = np.array([1,2,3,7,15,16])\n",
        "y = np.sin(x)\n",
        "plt.plot(x, y)\n",
        "plt.show()"
      ],
      "metadata": {
        "id": "BEhMkK1T31GZ"
      },
      "execution_count": null,
      "outputs": []
    },
    {
      "cell_type": "code",
      "source": [
        "# Variables\n",
        "x = np.arange(0, 10, 0.1)\n",
        "y = np.sin(x)\n",
        "\n",
        "# Design\n",
        "plt.plot(x,y,color='red')\n",
        "plt.title('THIS IS LINE CHART')\n",
        "plt.xlabel('X valuees')\n",
        "plt.ylabel('Y valuees')\n",
        "\n",
        "# Show\n",
        "plt.show()"
      ],
      "metadata": {
        "id": "ndNjaYHL4a8k"
      },
      "execution_count": null,
      "outputs": []
    },
    {
      "cell_type": "code",
      "source": [
        "# Variables\n",
        "x = np.arange(0, 10, 0.1)\n",
        "y = np.sin(x)\n",
        "z = np.cos(x)\n",
        "\n",
        "# Design\n",
        "plt.figure(figsize=(4,4))\n",
        "plt.plot(x, y, label='sin(x)')\n",
        "plt.plot(x, z, label='cos(x)', color='orange')\n",
        "plt.legend()\n",
        "plt.title('THIS IS LINE CHART')\n",
        "plt.xlabel('X valuees')\n",
        "plt.ylabel('Y valuees')\n",
        "\n",
        "# Show\n",
        "plt.show()\n"
      ],
      "metadata": {
        "id": "IyWj95uw5KrZ"
      },
      "execution_count": null,
      "outputs": []
    },
    {
      "cell_type": "code",
      "source": [
        "# Variables\n",
        "x = np.arange(0, 10, 0.1)\n",
        "y, z = np.sin(x), np.cos(x)\n",
        "\n",
        "# Design\n",
        "fig, ax = plt.subplots()\n",
        "fig.set_size_inches(4, 4)\n",
        "ax.plot(x,y,label='sin(x)', color='red')\n",
        "ax.plot(x,z,label='cos(x)')\n",
        "ax.set_xlabel('X values')\n",
        "ax.set_ylabel('Y values')\n",
        "ax.legend() # Not fig.legend()\n"
      ],
      "metadata": {
        "id": "8NTzrAOB9CXq"
      },
      "execution_count": null,
      "outputs": []
    },
    {
      "cell_type": "markdown",
      "source": [
        "# 산점도"
      ],
      "metadata": {
        "id": "FkRsLiGd-j6j"
      }
    },
    {
      "cell_type": "code",
      "source": [
        "# Variables\n",
        "x = np.random.rand(30)\n",
        "y = np.random.rand(30)\n",
        "\n",
        "# Design\n",
        "plt.scatter(x,y, marker='^', s=100, color='red')\n"
      ],
      "metadata": {
        "id": "dEKUU-dp-i2V"
      },
      "execution_count": null,
      "outputs": []
    },
    {
      "cell_type": "code",
      "source": [
        "# Variables\n",
        "x = np.random.rand(30)\n",
        "y = np.random.randint(0,30,30)\n",
        "z = np.random.randint(0,30,30)\n",
        "\n",
        "\n",
        "# Design\n",
        "plt.scatter(x, y, color = 'red')\n",
        "plt.scatter(x, z)\n"
      ],
      "metadata": {
        "id": "uGDkHaPd_s1Y"
      },
      "execution_count": null,
      "outputs": []
    },
    {
      "cell_type": "markdown",
      "source": [
        "## Histogram"
      ],
      "metadata": {
        "id": "Kb-FbmG2AyJ_"
      }
    },
    {
      "cell_type": "code",
      "source": [
        "x = np.random.randn(1000)\n",
        "plt.hist(x, bins=10, density=True)"
      ],
      "metadata": {
        "id": "Yfu9k0apAz1F"
      },
      "execution_count": null,
      "outputs": []
    },
    {
      "cell_type": "markdown",
      "source": [
        "## Barplot"
      ],
      "metadata": {
        "id": "tWtZJCOVCsQw"
      }
    },
    {
      "cell_type": "code",
      "source": [
        "x = ['A','B','O','AB']\n",
        "y = [10,5,6,2]\n",
        "\n",
        "plt.bar(x,y)"
      ],
      "metadata": {
        "id": "o-OkN67rCrkC"
      },
      "execution_count": null,
      "outputs": []
    },
    {
      "cell_type": "markdown",
      "source": [
        "# Boxplot"
      ],
      "metadata": {
        "id": "Qqob8dzUDdCI"
      }
    },
    {
      "cell_type": "code",
      "source": [
        "# Data Set\n",
        "i1 = np.random.normal(0, 2.0, 1000)  # Generates 1000 data points from a normal distribution with mean 0 and standard deviation 2.0\n",
        "i2 = np.random.normal(-3.0, 1.5, 500)  # Generates 500 data points from a normal distribution with mean -3.0 and standard deviation 1.5\n",
        "i3 = np.random.normal(1.2, 1.5, 1500)  # Generates 1500 data points from a normal distribution with mean 1.2 and standard deviation 1.5\n"
      ],
      "metadata": {
        "id": "suTedCduDewy"
      },
      "execution_count": null,
      "outputs": []
    },
    {
      "cell_type": "code",
      "source": [
        "# Creates a box plot for the data generated from (-3.0, 1.5, 500), showing a box centered around -3 with a range based on 1.5\n",
        "plt.boxplot([i2])"
      ],
      "metadata": {
        "id": "RnDXaoNxD0lg"
      },
      "execution_count": null,
      "outputs": []
    },
    {
      "cell_type": "code",
      "source": [
        "plt.boxplot([i1, i2, i3])  # Creates box plots for i1, i2, and i3 datasets\n",
        "plt.show()  # Using show() prevents miscellaneous output text from appearing"
      ],
      "metadata": {
        "id": "eMk28kWnEg5Q"
      },
      "execution_count": null,
      "outputs": []
    },
    {
      "cell_type": "markdown",
      "source": [
        "## Draw several flots"
      ],
      "metadata": {
        "id": "8DRtK8DYE81c"
      }
    },
    {
      "cell_type": "code",
      "source": [
        "# Datas\n",
        "x = np.linspace(0, 10, 30)\n",
        "y = np.sin(x)\n",
        "z = np.cos(x)\n",
        "w = np.tan(x)"
      ],
      "metadata": {
        "id": "7SRvKe16FCsr"
      },
      "execution_count": null,
      "outputs": []
    },
    {
      "cell_type": "code",
      "source": [
        "plt.figure(figsize=(12,5))\n",
        "\n",
        "for i in range(1,4+1):\n",
        "  plt.subplot(2, 2, i) # create 4 axes\n",
        "  plt.plot(x, y, 'r-')\n"
      ],
      "metadata": {
        "id": "gJhsd4QMFs_c"
      },
      "execution_count": null,
      "outputs": []
    },
    {
      "cell_type": "markdown",
      "source": [
        "### Old method(?)"
      ],
      "metadata": {
        "id": "9u1GaVLgG-8b"
      }
    },
    {
      "cell_type": "code",
      "source": [
        "fig, axes = plt.subplots(2, 2)\n",
        "axes[0][0].plot(x,y, color='green')\n",
        "axes[0][1].plot(x,z, color='red')\n",
        "axes[1][0].plot(x,w, color='blue')\n"
      ],
      "metadata": {
        "id": "J6EzovKqHAOV"
      },
      "execution_count": null,
      "outputs": []
    },
    {
      "cell_type": "code",
      "source": [
        "fig, axes = plt.subplots(2, 2)\n",
        "axes = axes.flatten()\n",
        "\n",
        "for i in range(4):\n",
        "  axes[i].plot(x,y)\n"
      ],
      "metadata": {
        "id": "tou8_8lkHo9n"
      },
      "execution_count": null,
      "outputs": []
    },
    {
      "cell_type": "markdown",
      "source": [],
      "metadata": {
        "id": "Bk5Sj5L4LHNc"
      }
    }
  ]
}