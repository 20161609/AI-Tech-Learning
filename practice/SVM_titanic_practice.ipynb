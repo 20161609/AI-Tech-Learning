{
  "cells": [
    {
      "cell_type": "markdown",
      "source": [
        "# 1. Initial setup"
      ],
      "metadata": {
        "id": "5e8CZmTrgwmD"
      }
    },
    {
      "cell_type": "markdown",
      "source": [
        "### Libraries"
      ],
      "metadata": {
        "id": "krUjTsQ9hAWt"
      }
    },
    {
      "cell_type": "code",
      "execution_count": null,
      "metadata": {
        "vscode": {
          "languageId": "plaintext"
        },
        "id": "FROmy-zQtpo6"
      },
      "outputs": [],
      "source": [
        "import numpy as np\n",
        "import pandas as pd\n",
        "import matplotlib.pyplot as plt\n",
        "import seaborn as sns"
      ]
    },
    {
      "cell_type": "markdown",
      "source": [
        "### seed for reproducibility"
      ],
      "metadata": {
        "id": "D3jtVqs4hBv7"
      }
    },
    {
      "cell_type": "code",
      "source": [
        "SEED = 42"
      ],
      "metadata": {
        "id": "l6kppdS9tzx3"
      },
      "execution_count": null,
      "outputs": []
    },
    {
      "cell_type": "markdown",
      "source": [
        "# 2. Data preprocessing"
      ],
      "metadata": {
        "id": "KjSpheMwhP3n"
      }
    },
    {
      "cell_type": "markdown",
      "source": [
        "### Load the Titanic dataset"
      ],
      "metadata": {
        "id": "P71OClEOhZfN"
      }
    },
    {
      "cell_type": "code",
      "source": [
        "data_link = \"https://raw.githubusercontent.com/20161609/data_box/c8bbf4888f31bc53672161471eed3855fb76744a/titanic.csv\"\n",
        "df = pd.read_csv(data_link)\n",
        "df.head()"
      ],
      "metadata": {
        "id": "t-Ac_1NDt4j5"
      },
      "execution_count": null,
      "outputs": []
    },
    {
      "cell_type": "code",
      "source": [
        "# Replace ' ' -> '_'\n",
        "df.columns = df.columns.str.replace(' ', '_')\n",
        "list(df.columns)"
      ],
      "metadata": {
        "id": "-i_84hbst2MR"
      },
      "execution_count": null,
      "outputs": []
    },
    {
      "cell_type": "code",
      "source": [
        "# Select only numeric columns for correlation calculation\n",
        "numeric_df = df.select_dtypes(include=[np.number])\n",
        "\n",
        "# Calculate correlations with the target variable 'Survived'\n",
        "correlations = numeric_df.corr()  # Calculate correlation matrix\n",
        "print(correlations['Survived'].sort_values(ascending=False))  # Sort correlations with 'Survived'\n"
      ],
      "metadata": {
        "id": "3q5UkgBXibeB"
      },
      "execution_count": null,
      "outputs": []
    },
    {
      "cell_type": "code",
      "source": [
        "# df = df[['Survived', 'Age', 'Sex', 'Pclass']]\n",
        "df = df[['Survived', 'Fare', 'Sex', 'Pclass']]\n",
        "df = pd.get_dummies(df, columns=['Sex', 'Pclass'])\n",
        "df.dropna(inplace=True)\n",
        "df.head()"
      ],
      "metadata": {
        "id": "gX_yOhg-9kpb"
      },
      "execution_count": null,
      "outputs": []
    },
    {
      "cell_type": "code",
      "source": [
        "df['Survived'].value_counts()"
      ],
      "metadata": {
        "id": "DjKG5hnOu5_E"
      },
      "execution_count": null,
      "outputs": []
    },
    {
      "cell_type": "code",
      "source": [
        "sns.countplot(data=df, x='Survived')"
      ],
      "metadata": {
        "id": "Pk9Uh5yNu_Rd"
      },
      "execution_count": null,
      "outputs": []
    },
    {
      "cell_type": "code",
      "source": [
        "# Sum of rows which even 1 col's value is None\n",
        "df.isnull().sum(axis=1).sum()"
      ],
      "metadata": {
        "id": "4gyM3AlvvERf"
      },
      "execution_count": null,
      "outputs": []
    },
    {
      "cell_type": "code",
      "source": [
        "df.duplicated().sum()"
      ],
      "metadata": {
        "id": "b21FSQv8vGH2"
      },
      "execution_count": null,
      "outputs": []
    },
    {
      "cell_type": "code",
      "source": [
        "# Draw boxplot\n",
        "df.boxplot(figsize=(10,10))"
      ],
      "metadata": {
        "id": "qegmot9gvIo1"
      },
      "execution_count": null,
      "outputs": []
    },
    {
      "cell_type": "code",
      "source": [
        "df.describe().T.head()"
      ],
      "metadata": {
        "id": "tgZbCtuDvKzQ"
      },
      "execution_count": null,
      "outputs": []
    },
    {
      "cell_type": "code",
      "source": [
        "from sklearn.model_selection import train_test_split\n",
        "\n",
        "x = df.drop('Survived', axis=1)\n",
        "y = df['Survived']\n",
        "\n",
        "x_train, x_test, y_train, y_test = train_test_split(x, y, test_size=0.2, stratify=y, random_state=0)"
      ],
      "metadata": {
        "id": "px4w7eES-p0E"
      },
      "execution_count": null,
      "outputs": []
    },
    {
      "cell_type": "code",
      "source": [
        "from sklearn.svm import SVC\n",
        "\n",
        "model = SVC(probability=True, random_state=0)\n",
        "model.fit(x_train, y_train)"
      ],
      "metadata": {
        "id": "tA04pZmk-tU6"
      },
      "execution_count": null,
      "outputs": []
    },
    {
      "cell_type": "code",
      "source": [
        "model.score(x_test, y_test)"
      ],
      "metadata": {
        "id": "bDBDZVYF-wgV"
      },
      "execution_count": null,
      "outputs": []
    },
    {
      "cell_type": "code",
      "source": [
        "from sklearn.model_selection import GridSearchCV\n",
        "from sklearn.svm import SVC\n",
        "import contextlib\n",
        "import io\n",
        "\n",
        "# Define the model\n",
        "model = SVC(probability=True, random_state=0)\n",
        "\n",
        "# Define the parameter grid\n",
        "param_grid = {\n",
        "    'C': [0.1, 0.5, 1, 5, 10],\n",
        "    'gamma': [0.1, 0.5, 1, 5, 10],\n",
        "    'kernel': ['linear', 'rbf', 'sigmoid']\n",
        "}\n",
        "\n",
        "# Suppress verbose output\n",
        "with contextlib.redirect_stdout(io.StringIO()):\n",
        "    grid_search = GridSearchCV(estimator=model, param_grid=param_grid, cv=5, verbose=2)\n",
        "    grid_search.fit(x, y)  # Train the model\n",
        "\n",
        "# Get the model with the best performance\n",
        "best_model = grid_search.best_estimator_\n"
      ],
      "metadata": {
        "id": "xEaE53Tn_ABp"
      },
      "execution_count": null,
      "outputs": []
    },
    {
      "cell_type": "code",
      "source": [
        "print(grid_search.best_params_)"
      ],
      "metadata": {
        "id": "ijPvzsDs_GXD"
      },
      "execution_count": null,
      "outputs": []
    },
    {
      "cell_type": "code",
      "source": [
        "from sklearn.model_selection import cross_validate\n",
        "\n",
        "scores = cross_validate(best_model, x, y, cv=5)\n",
        "print(scores['test_score'].mean())"
      ],
      "metadata": {
        "id": "tdbcw9-t_Bc9"
      },
      "execution_count": null,
      "outputs": []
    }
  ],
  "metadata": {
    "language_info": {
      "name": "python"
    },
    "colab": {
      "provenance": []
    },
    "kernelspec": {
      "name": "python3",
      "display_name": "Python 3"
    }
  },
  "nbformat": 4,
  "nbformat_minor": 0
}