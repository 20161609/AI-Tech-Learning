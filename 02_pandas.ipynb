{
  "nbformat": 4,
  "nbformat_minor": 0,
  "metadata": {
    "colab": {
      "private_outputs": true,
      "provenance": [],
      "authorship_tag": "ABX9TyOFY0CE4g+tIAGkJPuycjuR"
    },
    "kernelspec": {
      "name": "python3",
      "display_name": "Python 3"
    },
    "language_info": {
      "name": "python"
    }
  },
  "cells": [
    {
      "cell_type": "markdown",
      "source": [
        "# pandas"
      ],
      "metadata": {
        "id": "izEVyiq-Lxmw"
      }
    },
    {
      "cell_type": "markdown",
      "source": [
        "< Things to Note >\n",
        "- It resembles Excel, has similarities with NumPy, and is also somewhat like SQL.\n",
        "- The table headers in Excel must always be positioned at the top."
      ],
      "metadata": {
        "id": "_F6NnI_FL7bu"
      }
    },
    {
      "cell_type": "code",
      "execution_count": null,
      "metadata": {
        "id": "nnzJ10oDLq-N"
      },
      "outputs": [],
      "source": [
        "import pandas as pd\n",
        "\n",
        "pd.__version__"
      ]
    },
    {
      "cell_type": "markdown",
      "source": [
        "## Series"
      ],
      "metadata": {
        "id": "CAG1hIa_POgw"
      }
    },
    {
      "cell_type": "code",
      "source": [
        "sr = pd.Series([1,2,4], index=['A','B','C'], name='point')\n",
        "print(sr)\n",
        "print(type(sr))"
      ],
      "metadata": {
        "id": "xP8CpibkMsaS"
      },
      "execution_count": null,
      "outputs": []
    },
    {
      "cell_type": "code",
      "source": [
        "print(sr.name)\n",
        "print(sr.index)\n",
        "print(sr.shape)\n",
        "print(sr.values)"
      ],
      "metadata": {
        "id": "87rGwyddNx4d"
      },
      "execution_count": null,
      "outputs": []
    },
    {
      "cell_type": "code",
      "source": [
        "sr + 5 # Original remains unchanged."
      ],
      "metadata": {
        "id": "w28OSoXzOFgv"
      },
      "execution_count": null,
      "outputs": []
    },
    {
      "cell_type": "code",
      "source": [
        "sr = pd.Series([1,None,4], index=['A','B','C'], name='point')\n",
        "print(sr)\n",
        "print(type(sr))"
      ],
      "metadata": {
        "id": "nS4fa2oPOad2"
      },
      "execution_count": null,
      "outputs": []
    },
    {
      "cell_type": "code",
      "source": [
        "print(sr.isna())\n",
        "print('================')\n",
        "print(sr[sr.isna() == False])"
      ],
      "metadata": {
        "id": "e3ze5AcYO6xL"
      },
      "execution_count": null,
      "outputs": []
    },
    {
      "cell_type": "markdown",
      "source": [
        "## DataFrame"
      ],
      "metadata": {
        "id": "fHSP8biAPSQf"
      }
    },
    {
      "cell_type": "code",
      "source": [
        "info = {\n",
        "    'Name':['Jackson', 'Emma', 'Noah', 'James'],\n",
        "    'Weight':[68, 74, 77, 78],\n",
        "    'Option':[True, True, False, False],\n",
        "    'Rate':[0.21, 1.1, 0.89, 0.91],\n",
        "    'Type':['A','A','C','C']\n",
        "}\n",
        "\n",
        "df = pd.DataFrame(info)"
      ],
      "metadata": {
        "id": "R7WinA8lPXlB"
      },
      "execution_count": null,
      "outputs": []
    },
    {
      "cell_type": "code",
      "source": [
        "df"
      ],
      "metadata": {
        "id": "aoAn2d68PsfD"
      },
      "execution_count": null,
      "outputs": []
    },
    {
      "cell_type": "code",
      "source": [
        "df.shape"
      ],
      "metadata": {
        "id": "rnUBCfVvQsWS"
      },
      "execution_count": null,
      "outputs": []
    },
    {
      "cell_type": "code",
      "source": [
        "list(df.index)"
      ],
      "metadata": {
        "id": "y8o1Nwk0QyHE"
      },
      "execution_count": null,
      "outputs": []
    },
    {
      "cell_type": "code",
      "source": [
        "url = 'https://raw.githubusercontent.com/devdio/flyai_datasets/main/vgsalesGlobale.csv'\n",
        "df = pd.read_csv(url)\n",
        "df"
      ],
      "metadata": {
        "id": "tATLeJQdPuZQ"
      },
      "execution_count": null,
      "outputs": []
    },
    {
      "cell_type": "code",
      "source": [
        "df.head() # Displays the first 5 rows"
      ],
      "metadata": {
        "id": "LjY3OY_jRR7Q"
      },
      "execution_count": null,
      "outputs": []
    },
    {
      "cell_type": "code",
      "source": [
        "df.tail() # Displays the last 5 rows"
      ],
      "metadata": {
        "id": "wQNXQ6XYRE-h"
      },
      "execution_count": null,
      "outputs": []
    },
    {
      "cell_type": "code",
      "source": [
        "df.shape"
      ],
      "metadata": {
        "id": "6O_5z8-rRFgT"
      },
      "execution_count": null,
      "outputs": []
    },
    {
      "cell_type": "code",
      "source": [
        "df.info() # -> Count Non-null"
      ],
      "metadata": {
        "id": "LJ-SmCH4R6hn"
      },
      "execution_count": null,
      "outputs": []
    },
    {
      "cell_type": "code",
      "source": [
        "df.describe().T # -> Statistics"
      ],
      "metadata": {
        "id": "TnYlu_ipSCqh"
      },
      "execution_count": null,
      "outputs": []
    },
    {
      "cell_type": "code",
      "source": [
        "# df.isna().sum(axis=0)  # Counts the number of NaN values for each column\n",
        "df.isna().any(axis=1)  # Checks if any row contains at least one NaN value\n"
      ],
      "metadata": {
        "id": "Ddi-rED9SQbq"
      },
      "execution_count": null,
      "outputs": []
    },
    {
      "cell_type": "code",
      "source": [
        "df[df.isna().any(axis=1)]"
      ],
      "metadata": {
        "id": "Y74MD7BtTGaY"
      },
      "execution_count": null,
      "outputs": []
    },
    {
      "cell_type": "markdown",
      "source": [
        "## Select column"
      ],
      "metadata": {
        "id": "5RNitnRiTPcC"
      }
    },
    {
      "cell_type": "code",
      "source": [
        "df['Global Sales']  # Retrieves only the 'Global Sales' column"
      ],
      "metadata": {
        "id": "GiRh--8oTRJ9"
      },
      "execution_count": null,
      "outputs": []
    },
    {
      "cell_type": "code",
      "source": [
        "df[['Global Sales', 'JP Sales']]  # Retrieves both 'Global Sales' and 'JP Sales' columns"
      ],
      "metadata": {
        "id": "egZtoq_oTiaR"
      },
      "execution_count": null,
      "outputs": []
    },
    {
      "cell_type": "code",
      "source": [
        "df['Global Sales'].to_numpy().shape  # Common mistake! (Check the shape after converting to a NumPy array)"
      ],
      "metadata": {
        "id": "X_QU6g5OT5qJ"
      },
      "execution_count": null,
      "outputs": []
    },
    {
      "cell_type": "code",
      "source": [
        "df['Global Sales'].to_numpy().flatten().shape"
      ],
      "metadata": {
        "id": "ZgEK_T8LUMCM"
      },
      "execution_count": null,
      "outputs": []
    },
    {
      "cell_type": "code",
      "source": [
        "df.columns = [col.lower().replace(' ', '_') for col in df.columns]\n",
        "df.columns"
      ],
      "metadata": {
        "id": "S1fNXEAgU7Fw"
      },
      "execution_count": null,
      "outputs": []
    },
    {
      "cell_type": "code",
      "source": [
        "df_and = df[(df.global_sales > 40) | (df.jp_sales < 10)]['eu_sales']\n",
        "print(df_and)\n",
        "\n",
        "df_or = df[(df.global_sales > 40) | (df.jp_sales < 10)]['eu_sales']\n",
        "print(df_or)\n"
      ],
      "metadata": {
        "id": "GboIas2jVM6e"
      },
      "execution_count": null,
      "outputs": []
    },
    {
      "cell_type": "code",
      "source": [
        "df[df.global_sales > 40]['jp_sales']"
      ],
      "metadata": {
        "id": "Uf428dMmXjbF"
      },
      "execution_count": null,
      "outputs": []
    },
    {
      "cell_type": "code",
      "source": [
        "df.loc[(df.global_sales > 40), ['jp_sales', 'name']]"
      ],
      "metadata": {
        "id": "1ipchM4QX9FE"
      },
      "execution_count": null,
      "outputs": []
    },
    {
      "cell_type": "code",
      "source": [
        "i, j = 3, 4\n",
        "df.iloc[i, j]  # Refers to the value at row index i and column index j"
      ],
      "metadata": {
        "id": "x7BDLB4eYP3s"
      },
      "execution_count": null,
      "outputs": []
    },
    {
      "cell_type": "code",
      "source": [
        "df_num = df.select_dtypes(include=['number'])\n",
        "df_num['global_sales_twice'] = df['global_sales'] * 2\n",
        "df_num"
      ],
      "metadata": {
        "id": "bt7195neY_GX"
      },
      "execution_count": null,
      "outputs": []
    },
    {
      "cell_type": "code",
      "source": [
        "df_x = df_num.drop(\"global_sales\", axis = 1)\n",
        "df_x"
      ],
      "metadata": {
        "id": "JJGAN67OaPg1"
      },
      "execution_count": null,
      "outputs": []
    },
    {
      "cell_type": "code",
      "source": [
        "df_num.drop(\"global_sales\", axis = 1, inplace=True) # global_sales disapear\n",
        "df_num"
      ],
      "metadata": {
        "id": "4CF7H3JVazaS"
      },
      "execution_count": null,
      "outputs": []
    },
    {
      "cell_type": "code",
      "source": [
        "df.isna().sum(axis=0)"
      ],
      "metadata": {
        "id": "h5ww-gl4afg6"
      },
      "execution_count": null,
      "outputs": []
    },
    {
      "cell_type": "code",
      "source": [
        "df['publisher'].value_counts()"
      ],
      "metadata": {
        "id": "hIO1G-34cX9H"
      },
      "execution_count": null,
      "outputs": []
    },
    {
      "cell_type": "code",
      "source": [
        "df['publisher'] = df['publisher'].fillna('Electronic Arts') # Input mean value."
      ],
      "metadata": {
        "id": "HzD-G-NncGAH"
      },
      "execution_count": null,
      "outputs": []
    },
    {
      "cell_type": "code",
      "source": [
        "df['publisher'].value_counts()"
      ],
      "metadata": {
        "id": "8L9Wt4VZckL6"
      },
      "execution_count": null,
      "outputs": []
    },
    {
      "cell_type": "code",
      "source": [
        "df.isna().sum()"
      ],
      "metadata": {
        "id": "NAHvNRrNcnf-"
      },
      "execution_count": null,
      "outputs": []
    },
    {
      "cell_type": "code",
      "source": [
        "df = df.dropna()\n",
        "df.shape"
      ],
      "metadata": {
        "id": "mghWbgrScwvb"
      },
      "execution_count": null,
      "outputs": []
    }
  ]
}