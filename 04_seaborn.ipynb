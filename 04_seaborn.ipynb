{
  "nbformat": 4,
  "nbformat_minor": 0,
  "metadata": {
    "colab": {
      "private_outputs": true,
      "provenance": [],
      "authorship_tag": "ABX9TyNY7gJI9IBCymwu91irV/AP"
    },
    "kernelspec": {
      "name": "python3",
      "display_name": "Python 3"
    },
    "language_info": {
      "name": "python"
    }
  },
  "cells": [
    {
      "cell_type": "markdown",
      "source": [
        "# Seaborn"
      ],
      "metadata": {
        "id": "E7iETEPHLSD3"
      }
    },
    {
      "cell_type": "code",
      "execution_count": null,
      "metadata": {
        "id": "ld25QxgcLNNn"
      },
      "outputs": [],
      "source": [
        "import seaborn as sns\n",
        "\n",
        "sns.__version__"
      ]
    },
    {
      "cell_type": "code",
      "source": [
        "!python --version\n",
        "# !pip list  # -> List of installed libraries"
      ],
      "metadata": {
        "id": "Y-y2GdBVLbGs"
      },
      "execution_count": null,
      "outputs": []
    },
    {
      "cell_type": "code",
      "source": [
        "# The 'tip' dataset is built-in dataset in the seaborn library, containing data related to tips at restaurant.\n",
        "tips = sns.load_dataset('tips')\n",
        "tips"
      ],
      "metadata": {
        "id": "SkebLK6SMIKG"
      },
      "execution_count": null,
      "outputs": []
    },
    {
      "cell_type": "code",
      "source": [
        "# Create a histogram plot using the dataset 'tips'\n",
        "sns.histplot(data=tips)"
      ],
      "metadata": {
        "id": "Y8Cuk6FyNlkc"
      },
      "execution_count": null,
      "outputs": []
    },
    {
      "cell_type": "code",
      "source": [
        "# Create a histogram plot for the 'tip' column in the 'tips' dataset\n",
        "sns.histplot(data=tips, x='tip')"
      ],
      "metadata": {
        "id": "pBZiCtzROFP_"
      },
      "execution_count": null,
      "outputs": []
    },
    {
      "cell_type": "code",
      "source": [
        "# Create a bar plot showing the average 'tip' for each 'day' in the 'tips' dataset, with no error bars\n",
        "sns.barplot(data=tips, x='day', y='tip', errorbar=None)"
      ],
      "metadata": {
        "id": "ypAqJKU4OH3g"
      },
      "execution_count": null,
      "outputs": []
    },
    {
      "cell_type": "code",
      "source": [
        "# Remove confidence intervals\n",
        "sns.barplot(data=tips, x='day', y='tip', hue='sex', errorbar=None)"
      ],
      "metadata": {
        "id": "UNuMxnXfOz1C"
      },
      "execution_count": null,
      "outputs": []
    },
    {
      "cell_type": "code",
      "source": [
        "# Using 'hue' makes it easily to sepearate.\n",
        "sns.boxplot(data=tips, y='tip', hue='time')"
      ],
      "metadata": {
        "id": "MUwFk2fmPRT1"
      },
      "execution_count": null,
      "outputs": []
    },
    {
      "cell_type": "code",
      "source": [
        "# Non-smokers give higher tips on Fridays.\n",
        "sns.violinplot(data=tips, x='day',y='tip', hue='smoker', split=True)"
      ],
      "metadata": {
        "id": "_gpNmJOQQDfq"
      },
      "execution_count": null,
      "outputs": []
    },
    {
      "cell_type": "code",
      "source": [
        "import matplotlib.pyplot as plt\n",
        "\n",
        "fig, axes = plt.subplots(1, 2)\n",
        "sns.boxplot(data=tips, y='tip', hue='smoker', ax=axes[0])\n",
        "sns.violinplot(x='day', y='tip', data=tips, hue='smoker', split=True, ax=axes[1])"
      ],
      "metadata": {
        "id": "hdw4qb-qQuBN"
      },
      "execution_count": null,
      "outputs": []
    }
  ]
}